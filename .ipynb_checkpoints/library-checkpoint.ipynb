{
 "cells": [
  {
   "cell_type": "code",
   "execution_count": null,
   "metadata": {},
   "outputs": [],
   "source": [
    "import pandas as pd\n",
    "\n",
    "def df_slice(data_frame, column_name, lower_limit=None, upper_limit=None, upper_exclusive=True):\n",
    "\n",
    "\n",
    "def df_slice_above(data_frame, column_name, slice_value, slice_exclusive=True):\n",
    "    filer = None\n",
    "    if slice_exclusive:\n",
    "        filter = data_frame[column_name] > slice_value\n",
    "    else:\n",
    "        filter = data_frame[column_name] >= slice_value"
   ]
  }
 ],
 "metadata": {
  "kernelspec": {
   "display_name": "Python 3",
   "language": "python",
   "name": "python3"
  },
  "language_info": {
   "codemirror_mode": {
    "name": "ipython",
    "version": 3
   },
   "file_extension": ".py",
   "mimetype": "text/x-python",
   "name": "python",
   "nbconvert_exporter": "python",
   "pygments_lexer": "ipython3",
   "version": "3.6.4"
  }
 },
 "nbformat": 4,
 "nbformat_minor": 2
}
