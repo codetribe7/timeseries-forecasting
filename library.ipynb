{
 "cells": [
  {
   "cell_type": "code",
   "execution_count": 1,
   "metadata": {},
   "outputs": [],
   "source": [
    "import pandas as pd\n",
    "\n",
    "def df_slice(data_frame, column_name, lower_limit=None, upper_limit=None, upper_exclusive=True):\n",
    "    returned_object = data_frame\n",
    "    \n",
    "    if lower_limit is None:\n",
    "        lower_limit = data_frame[column_name].min()\n",
    "    \n",
    "    if upper_limit is None:\n",
    "        upper_limit = data_frame[column_name].max()\n",
    "    \n",
    "    lower_filter = data_frame[column_name] >= lower_limit\n",
    "    \n",
    "    if upper_exclusive:\n",
    "        upper_filter = data_frame[column_name] < upper_limit\n",
    "    else:\n",
    "        upper_filter = data_frame[column_name] <= upper_limit\n",
    "    \n",
    "    return data_frame[lower_filter][upper_filter]\n",
    "    \n",
    "    \n",
    "\n",
    "# def df_slice_above(data_frame, column_name, slice_value, slice_exclusive=True):\n",
    "#     filer = None\n",
    "#     if slice_exclusive:\n",
    "#         filter = data_frame[column_name] > slice_value\n",
    "#     else:\n",
    "#         filter = data_frame[column_name] >= slice_value\n",
    "#     return data_frame[filter]\n",
    "\n",
    "\n",
    "# def df_slice_below(data_frame, column_name, slice_value, slice_exclusive=True):\n",
    "#     filer = None\n",
    "#     if slice_exclusive:\n",
    "#         filter = data_frame[column_name] < slice_value\n",
    "#     else:\n",
    "#         filter = data_frame[column_name] <= slice_value\n",
    "#     return data_frame[filter]"
   ]
  },
  {
   "cell_type": "code",
   "execution_count": null,
   "metadata": {},
   "outputs": [],
   "source": [
    "df = pd.read_csv()"
   ]
  }
 ],
 "metadata": {
  "kernelspec": {
   "display_name": "Python 3",
   "language": "python",
   "name": "python3"
  },
  "language_info": {
   "codemirror_mode": {
    "name": "ipython",
    "version": 3
   },
   "file_extension": ".py",
   "mimetype": "text/x-python",
   "name": "python",
   "nbconvert_exporter": "python",
   "pygments_lexer": "ipython3",
   "version": "3.6.4"
  }
 },
 "nbformat": 4,
 "nbformat_minor": 2
}
